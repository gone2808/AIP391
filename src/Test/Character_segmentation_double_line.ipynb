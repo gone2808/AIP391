{
 "cells": [
  {
   "cell_type": "code",
   "execution_count": 10,
   "metadata": {},
   "outputs": [],
   "source": [
    "from skimage.filters import threshold_local\n",
    "from skimage import morphology\n",
    "import cv2\n",
    "import matplotlib.pyplot as plt\n",
    "import os"
   ]
  },
  {
   "cell_type": "code",
   "execution_count": 11,
   "metadata": {},
   "outputs": [],
   "source": [
    "class Character_segment:\n",
    "    def __init__(self,platePath,dst):\n",
    "        self.platePath = platePath\n",
    "        self.dst = dst\n",
    "        self.plateImg = None\n",
    "        self.height = 0\n",
    "        self.extract()\n",
    "\n",
    "    def readImage(self):\n",
    "        self.plateImg = cv2.imread(self.platePath)\n",
    "        self.height = self.plateImg.shape[0]\n",
    "\n",
    "    def processing(self):\n",
    "        # First we read input image, later convert into HSV\n",
    "        # Split to take V channel and apply local binary threshold on it\n",
    "        # Use canny to find boundaries and dilate to thicken them\n",
    "        self.readImage()\n",
    "        raw_img = self.plateImg\n",
    "        \n",
    "        V = cv2.split(cv2.cvtColor(raw_img, cv2.COLOR_BGR2HSV))[2]\n",
    "        \n",
    "        T = threshold_local(V, block_size=65, offset=15, method='gaussian')\n",
    "        thresh = (V > T).astype(\"uint8\")*255\n",
    "        thresh = cv2.bitwise_not(thresh)\n",
    "        \n",
    "        self.plateImg = thresh\n",
    "\n",
    "        opening = morphology.area_opening(thresh, area_threshold=256)\n",
    "        closing = morphology.area_closing(opening, area_threshold=512)\n",
    "\n",
    "        canny = cv2.Canny(closing, 0, 255, 1)\n",
    "\n",
    "        kernel = cv2.getStructuringElement(cv2.MORPH_RECT, (3, 3))\n",
    "        dilate = cv2.dilate(canny, kernel, iterations=1)\n",
    "        return dilate\n",
    "\n",
    "    def extract(self):\n",
    "        img = self.processing()\n",
    "        contours = cv2.findContours(\n",
    "            img, cv2.RETR_EXTERNAL, cv2.CHAIN_APPROX_SIMPLE)\n",
    "        contours = contours[0] if len(contours) == 2 else contours[1]\n",
    "\n",
    "        upper = []\n",
    "        lower = []\n",
    "\n",
    "        plt.figure(figsize=(12, 12))\n",
    "        image_number = 1\n",
    "        for contour in contours:\n",
    "            area = cv2.contourArea(contour)\n",
    "            if area > 200:\n",
    "                x, y, w, h = cv2.boundingRect(contour)\n",
    "                if h/w > 1.5 and h/w <= 3:\n",
    "                    if y <= self.height/3:\n",
    "                        upper.append([x, y, w, h])\n",
    "                    else:\n",
    "                        lower.append([x, y, w, h])\n",
    "\n",
    "        upper = sorted(upper, key=self.takeX)\n",
    "        lower = sorted(lower, key=self.takeX)\n",
    "        full = upper+lower\n",
    "\n",
    "        saveFolder = os.path.split(self.platePath)[1].split(\".\")[0]\n",
    "        dst = os.path.join(self.dst, \"segment_char\" ,saveFolder)\n",
    "        print(\"Extracted characters saved at:\",dst)\n",
    "\n",
    "        if not os.path.exists(os.path.join(self.dst, \"segment_char\")):\n",
    "            os.mkdir(os.path.join(self.dst, \"segment_char\"))\n",
    "        if not os.path.exists(dst):\n",
    "            os.mkdir(dst)\n",
    "\n",
    "        for i in range(len(full)):\n",
    "            x = full[i][0]\n",
    "            y = full[i][1]\n",
    "            w = full[i][2]\n",
    "            h = full[i][3]\n",
    "            roi = self.plateImg[y:y+h, x:x+w]\n",
    "            plt.subplot(8, 8, image_number)\n",
    "            plt.imshow(roi,cmap='gray')\n",
    "            plt.title(\"{},{}\".format(x, y))\n",
    "            cv2.imwrite(os.path.join(dst, str(image_number)+\".jpg\"), roi)\n",
    "            image_number += 1\n",
    "\n",
    "    def takeX(self,a):\n",
    "        return a[0]\n"
   ]
  },
  {
   "cell_type": "code",
   "execution_count": 14,
   "metadata": {},
   "outputs": [
    {
     "name": "stdout",
     "output_type": "stream",
     "text": [
      "Extracted characters saved at: C:\\Users\\mr Hai\\OneDrive\\Desktop\\segment_char\\anh1085\n"
     ]
    },
    {
     "data": {
      "text/plain": [
       "<__main__.Character_segment at 0x18967521288>"
      ]
     },
     "execution_count": 14,
     "metadata": {},
     "output_type": "execute_result"
    },
    {
     "data": {
      "image/png": "[encoded data removed]",
      "text/plain": [
       "<Figure size 864x864 with 8 Axes>"
      ]
     },
     "metadata": {
      "needs_background": "light"
     },
     "output_type": "display_data"
    }
   ],
   "source": [
    "# Character_segment(\"E:\\\\Plate_data\\\\Cropped_train\\\\anh3.jpg\", \"C:\\\\Users\\\\ASUS\\\\Documents\")\n",
    "# E:\\Sem5\\Raw\\Plate_data\\Cropped_train\n",
    "Character_segment(\"E:\\Sem5\\Raw\\Plate_data\\Cropped_train\\\\anh1085.jpg\", 'C:\\\\Users\\\\mr Hai\\\\OneDrive\\\\Desktop' )"
   ]
  }
 ],
 "metadata": {
  "interpreter": {
   "hash": "8cff91e91ad66173eda937247a6f5864ad15aab231b1b9433f69b6b5be19db84"
  },
  "kernelspec": {
   "display_name": "Python 3.7.11 64-bit ('envname': conda)",
   "name": "python3"
  },
  "language_info": {
   "codemirror_mode": {
    "name": "ipython",
    "version": 3
   },
   "file_extension": ".py",
   "mimetype": "text/x-python",
   "name": "python",
   "nbconvert_exporter": "python",
   "pygments_lexer": "ipython3",
   "version": "3.7.11"
  },
  "orig_nbformat": 4
 },
 "nbformat": 4,
 "nbformat_minor": 2
}
