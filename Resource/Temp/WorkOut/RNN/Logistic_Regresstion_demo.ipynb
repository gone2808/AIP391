{
 "cells": [
  {
   "cell_type": "code",
   "execution_count": 1,
   "source": [
    "import tensorflow as tf\r\n",
    "import numpy as np\r\n",
    "from keras.models import Sequential\r\n",
    "from keras.layers import Dense, Dropout, LSTM\r\n",
    "from sklearn.model_selection import train_test_split\r\n",
    "from sklearn.decomposition import PCA\r\n",
    "from sklearn.metrics import mean_squared_error\r\n",
    "from sklearn import linear_model\r\n",
    "from sklearn import datasets\r\n",
    "import matplotlib.pyplot as plt\r\n",
    "import pandas as pd\r\n",
    "import seaborn as sns"
   ],
   "outputs": [],
   "metadata": {}
  },
  {
   "cell_type": "code",
   "execution_count": 5,
   "source": [
    "#dataset: https://www.kaggle.com/dragonheir/logistic-regression\r\n",
    "df = pd.read_csv('E:\\ML\\RLtrain\\Social_Network_Ads.csv')\r\n",
    "print(df.shape)\r\n",
    "print(df.describe())\r\n",
    "df.isnull().sum()"
   ],
   "outputs": [
    {
     "output_type": "stream",
     "name": "stdout",
     "text": [
      "(400, 5)\n",
      "            User ID         Age  EstimatedSalary   Purchased\n",
      "count  4.000000e+02  400.000000       400.000000  400.000000\n",
      "mean   1.569154e+07   37.655000     69742.500000    0.357500\n",
      "std    7.165832e+04   10.482877     34096.960282    0.479864\n",
      "min    1.556669e+07   18.000000     15000.000000    0.000000\n",
      "25%    1.562676e+07   29.750000     43000.000000    0.000000\n",
      "50%    1.569434e+07   37.000000     70000.000000    0.000000\n",
      "75%    1.575036e+07   46.000000     88000.000000    1.000000\n",
      "max    1.581524e+07   60.000000    150000.000000    1.000000\n"
     ]
    },
    {
     "output_type": "execute_result",
     "data": {
      "text/plain": [
       "User ID            0\n",
       "Gender             0\n",
       "Age                0\n",
       "EstimatedSalary    0\n",
       "Purchased          0\n",
       "dtype: int64"
      ]
     },
     "metadata": {},
     "execution_count": 5
    }
   ],
   "metadata": {}
  },
  {
   "cell_type": "code",
   "execution_count": null,
   "source": [
    "def sigmoid(x):\r\n",
    "    return 1 / (1 + np.exp(-x))\r\n",
    "\r\n",
    "def hypothesis_function(theta, X, y, lambda_reg):\r\n",
    "    return 0\r\n",
    "    \r\n",
    "    "
   ],
   "outputs": [],
   "metadata": {}
  },
  {
   "cell_type": "code",
   "execution_count": null,
   "source": [],
   "outputs": [],
   "metadata": {}
  }
 ],
 "metadata": {
  "orig_nbformat": 4,
  "language_info": {
   "name": "python",
   "version": "3.9.1",
   "mimetype": "text/x-python",
   "codemirror_mode": {
    "name": "ipython",
    "version": 3
   },
   "pygments_lexer": "ipython3",
   "nbconvert_exporter": "python",
   "file_extension": ".py"
  },
  "kernelspec": {
   "name": "python3",
   "display_name": "Python 3.9.1 64-bit"
  },
  "interpreter": {
   "hash": "90bf0ec40c7ec4c2b0ea387a416fb17af957fde752c4cfd10a947730a75cc172"
  }
 },
 "nbformat": 4,
 "nbformat_minor": 2
}